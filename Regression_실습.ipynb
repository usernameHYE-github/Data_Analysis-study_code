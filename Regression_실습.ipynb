{
 "cells": [
  {
   "cell_type": "markdown",
   "metadata": {
    "id": "wTy5wRRZ7C-P"
   },
   "source": [
    "# Data Load"
   ]
  },
  {
   "cell_type": "code",
   "execution_count": 1,
   "metadata": {},
   "outputs": [],
   "source": [
    "# warning 표시 무시\n",
    "import warnings\n",
    "warnings.filterwarnings('ignore')"
   ]
  },
  {
   "cell_type": "code",
   "execution_count": 2,
   "metadata": {
    "colab": {
     "base_uri": "https://localhost:8080/"
    },
    "id": "AucepZDD6p1m",
    "outputId": "658a5f09-3e69-4342-f9dc-d54f70809a47"
   },
   "outputs": [
    {
     "name": "stdout",
     "output_type": "stream",
     "text": [
      "Requirement already satisfied: gapminder in c:\\users\\hyeli\\anaconda3\\lib\\site-packages (0.1)\n",
      "Requirement already satisfied: pandas in c:\\users\\hyeli\\anaconda3\\lib\\site-packages (from gapminder) (1.3.4)\n",
      "Requirement already satisfied: python-dateutil>=2.7.3 in c:\\users\\hyeli\\anaconda3\\lib\\site-packages (from pandas->gapminder) (2.8.2)\n",
      "Requirement already satisfied: numpy>=1.17.3 in c:\\users\\hyeli\\anaconda3\\lib\\site-packages (from pandas->gapminder) (1.21.6)\n",
      "Requirement already satisfied: pytz>=2017.3 in c:\\users\\hyeli\\anaconda3\\lib\\site-packages (from pandas->gapminder) (2021.3)\n",
      "Requirement already satisfied: six>=1.5 in c:\\users\\hyeli\\anaconda3\\lib\\site-packages (from python-dateutil>=2.7.3->pandas->gapminder) (1.16.0)\n"
     ]
    }
   ],
   "source": [
    "#gapminder dataset 라이브러리를 설치\n",
    "\n",
    "!pip install gapminder"
   ]
  },
  {
   "cell_type": "code",
   "execution_count": 3,
   "metadata": {
    "colab": {
     "base_uri": "https://localhost:8080/",
     "height": 423
    },
    "id": "x1beOs4A3HUQ",
    "outputId": "560a015b-34df-4f82-9dc0-e48a2ce2b859"
   },
   "outputs": [
    {
     "data": {
      "text/html": [
       "<div>\n",
       "<style scoped>\n",
       "    .dataframe tbody tr th:only-of-type {\n",
       "        vertical-align: middle;\n",
       "    }\n",
       "\n",
       "    .dataframe tbody tr th {\n",
       "        vertical-align: top;\n",
       "    }\n",
       "\n",
       "    .dataframe thead th {\n",
       "        text-align: right;\n",
       "    }\n",
       "</style>\n",
       "<table border=\"1\" class=\"dataframe\">\n",
       "  <thead>\n",
       "    <tr style=\"text-align: right;\">\n",
       "      <th></th>\n",
       "      <th>country</th>\n",
       "      <th>continent</th>\n",
       "      <th>year</th>\n",
       "      <th>lifeExp</th>\n",
       "      <th>pop</th>\n",
       "      <th>gdpPercap</th>\n",
       "    </tr>\n",
       "  </thead>\n",
       "  <tbody>\n",
       "    <tr>\n",
       "      <th>0</th>\n",
       "      <td>Afghanistan</td>\n",
       "      <td>Asia</td>\n",
       "      <td>1952</td>\n",
       "      <td>28.801</td>\n",
       "      <td>8425333</td>\n",
       "      <td>779.445314</td>\n",
       "    </tr>\n",
       "    <tr>\n",
       "      <th>1</th>\n",
       "      <td>Afghanistan</td>\n",
       "      <td>Asia</td>\n",
       "      <td>1957</td>\n",
       "      <td>30.332</td>\n",
       "      <td>9240934</td>\n",
       "      <td>820.853030</td>\n",
       "    </tr>\n",
       "    <tr>\n",
       "      <th>2</th>\n",
       "      <td>Afghanistan</td>\n",
       "      <td>Asia</td>\n",
       "      <td>1962</td>\n",
       "      <td>31.997</td>\n",
       "      <td>10267083</td>\n",
       "      <td>853.100710</td>\n",
       "    </tr>\n",
       "    <tr>\n",
       "      <th>3</th>\n",
       "      <td>Afghanistan</td>\n",
       "      <td>Asia</td>\n",
       "      <td>1967</td>\n",
       "      <td>34.020</td>\n",
       "      <td>11537966</td>\n",
       "      <td>836.197138</td>\n",
       "    </tr>\n",
       "    <tr>\n",
       "      <th>4</th>\n",
       "      <td>Afghanistan</td>\n",
       "      <td>Asia</td>\n",
       "      <td>1972</td>\n",
       "      <td>36.088</td>\n",
       "      <td>13079460</td>\n",
       "      <td>739.981106</td>\n",
       "    </tr>\n",
       "    <tr>\n",
       "      <th>...</th>\n",
       "      <td>...</td>\n",
       "      <td>...</td>\n",
       "      <td>...</td>\n",
       "      <td>...</td>\n",
       "      <td>...</td>\n",
       "      <td>...</td>\n",
       "    </tr>\n",
       "    <tr>\n",
       "      <th>1699</th>\n",
       "      <td>Zimbabwe</td>\n",
       "      <td>Africa</td>\n",
       "      <td>1987</td>\n",
       "      <td>62.351</td>\n",
       "      <td>9216418</td>\n",
       "      <td>706.157306</td>\n",
       "    </tr>\n",
       "    <tr>\n",
       "      <th>1700</th>\n",
       "      <td>Zimbabwe</td>\n",
       "      <td>Africa</td>\n",
       "      <td>1992</td>\n",
       "      <td>60.377</td>\n",
       "      <td>10704340</td>\n",
       "      <td>693.420786</td>\n",
       "    </tr>\n",
       "    <tr>\n",
       "      <th>1701</th>\n",
       "      <td>Zimbabwe</td>\n",
       "      <td>Africa</td>\n",
       "      <td>1997</td>\n",
       "      <td>46.809</td>\n",
       "      <td>11404948</td>\n",
       "      <td>792.449960</td>\n",
       "    </tr>\n",
       "    <tr>\n",
       "      <th>1702</th>\n",
       "      <td>Zimbabwe</td>\n",
       "      <td>Africa</td>\n",
       "      <td>2002</td>\n",
       "      <td>39.989</td>\n",
       "      <td>11926563</td>\n",
       "      <td>672.038623</td>\n",
       "    </tr>\n",
       "    <tr>\n",
       "      <th>1703</th>\n",
       "      <td>Zimbabwe</td>\n",
       "      <td>Africa</td>\n",
       "      <td>2007</td>\n",
       "      <td>43.487</td>\n",
       "      <td>12311143</td>\n",
       "      <td>469.709298</td>\n",
       "    </tr>\n",
       "  </tbody>\n",
       "</table>\n",
       "<p>1704 rows × 6 columns</p>\n",
       "</div>"
      ],
      "text/plain": [
       "          country continent  year  lifeExp       pop   gdpPercap\n",
       "0     Afghanistan      Asia  1952   28.801   8425333  779.445314\n",
       "1     Afghanistan      Asia  1957   30.332   9240934  820.853030\n",
       "2     Afghanistan      Asia  1962   31.997  10267083  853.100710\n",
       "3     Afghanistan      Asia  1967   34.020  11537966  836.197138\n",
       "4     Afghanistan      Asia  1972   36.088  13079460  739.981106\n",
       "...           ...       ...   ...      ...       ...         ...\n",
       "1699     Zimbabwe    Africa  1987   62.351   9216418  706.157306\n",
       "1700     Zimbabwe    Africa  1992   60.377  10704340  693.420786\n",
       "1701     Zimbabwe    Africa  1997   46.809  11404948  792.449960\n",
       "1702     Zimbabwe    Africa  2002   39.989  11926563  672.038623\n",
       "1703     Zimbabwe    Africa  2007   43.487  12311143  469.709298\n",
       "\n",
       "[1704 rows x 6 columns]"
      ]
     },
     "execution_count": 3,
     "metadata": {},
     "output_type": "execute_result"
    }
   ],
   "source": [
    "#gapminder를 import하고 출력\n",
    "\n",
    "from gapminder import gapminder\n",
    "\n",
    "gapminder"
   ]
  },
  {
   "cell_type": "markdown",
   "metadata": {
    "id": "d15nMSTu7Ihx"
   },
   "source": [
    "# Regression"
   ]
  },
  {
   "cell_type": "markdown",
   "metadata": {
    "id": "ltlyZSc37ME6"
   },
   "source": [
    "**주어진 데이터를 활용하여 대륙명, 연도, 기대수명, 인구가 주어졌을 때 1인당 GDP를 예측하는 모델을 만드려고 한다.**"
   ]
  },
  {
   "cell_type": "markdown",
   "metadata": {
    "id": "8gZhq8NZ7qSP"
   },
   "source": [
    "1. 주어진 빈칸에 알맞은 값을 입력하여 country 열을 뺀 새로운 데이터를 gapminder 변수에 할당 하시오.\n",
    "아래와 같이 gapminder 데이터가 출력될 수 있게 하시오. (10점)"
   ]
  },
  {
   "cell_type": "code",
   "execution_count": 4,
   "metadata": {
    "id": "iGjPt2Xq9IaP"
   },
   "outputs": [],
   "source": [
    "gapminder = gapminder.iloc[:, gapminder.columns != \"country\"]"
   ]
  },
  {
   "cell_type": "code",
   "execution_count": 5,
   "metadata": {},
   "outputs": [
    {
     "data": {
      "text/html": [
       "<div>\n",
       "<style scoped>\n",
       "    .dataframe tbody tr th:only-of-type {\n",
       "        vertical-align: middle;\n",
       "    }\n",
       "\n",
       "    .dataframe tbody tr th {\n",
       "        vertical-align: top;\n",
       "    }\n",
       "\n",
       "    .dataframe thead th {\n",
       "        text-align: right;\n",
       "    }\n",
       "</style>\n",
       "<table border=\"1\" class=\"dataframe\">\n",
       "  <thead>\n",
       "    <tr style=\"text-align: right;\">\n",
       "      <th></th>\n",
       "      <th>continent</th>\n",
       "      <th>year</th>\n",
       "      <th>lifeExp</th>\n",
       "      <th>pop</th>\n",
       "      <th>gdpPercap</th>\n",
       "    </tr>\n",
       "  </thead>\n",
       "  <tbody>\n",
       "    <tr>\n",
       "      <th>0</th>\n",
       "      <td>Asia</td>\n",
       "      <td>1952</td>\n",
       "      <td>28.801</td>\n",
       "      <td>8425333</td>\n",
       "      <td>779.445314</td>\n",
       "    </tr>\n",
       "    <tr>\n",
       "      <th>1</th>\n",
       "      <td>Asia</td>\n",
       "      <td>1957</td>\n",
       "      <td>30.332</td>\n",
       "      <td>9240934</td>\n",
       "      <td>820.853030</td>\n",
       "    </tr>\n",
       "    <tr>\n",
       "      <th>2</th>\n",
       "      <td>Asia</td>\n",
       "      <td>1962</td>\n",
       "      <td>31.997</td>\n",
       "      <td>10267083</td>\n",
       "      <td>853.100710</td>\n",
       "    </tr>\n",
       "    <tr>\n",
       "      <th>3</th>\n",
       "      <td>Asia</td>\n",
       "      <td>1967</td>\n",
       "      <td>34.020</td>\n",
       "      <td>11537966</td>\n",
       "      <td>836.197138</td>\n",
       "    </tr>\n",
       "    <tr>\n",
       "      <th>4</th>\n",
       "      <td>Asia</td>\n",
       "      <td>1972</td>\n",
       "      <td>36.088</td>\n",
       "      <td>13079460</td>\n",
       "      <td>739.981106</td>\n",
       "    </tr>\n",
       "    <tr>\n",
       "      <th>...</th>\n",
       "      <td>...</td>\n",
       "      <td>...</td>\n",
       "      <td>...</td>\n",
       "      <td>...</td>\n",
       "      <td>...</td>\n",
       "    </tr>\n",
       "    <tr>\n",
       "      <th>1699</th>\n",
       "      <td>Africa</td>\n",
       "      <td>1987</td>\n",
       "      <td>62.351</td>\n",
       "      <td>9216418</td>\n",
       "      <td>706.157306</td>\n",
       "    </tr>\n",
       "    <tr>\n",
       "      <th>1700</th>\n",
       "      <td>Africa</td>\n",
       "      <td>1992</td>\n",
       "      <td>60.377</td>\n",
       "      <td>10704340</td>\n",
       "      <td>693.420786</td>\n",
       "    </tr>\n",
       "    <tr>\n",
       "      <th>1701</th>\n",
       "      <td>Africa</td>\n",
       "      <td>1997</td>\n",
       "      <td>46.809</td>\n",
       "      <td>11404948</td>\n",
       "      <td>792.449960</td>\n",
       "    </tr>\n",
       "    <tr>\n",
       "      <th>1702</th>\n",
       "      <td>Africa</td>\n",
       "      <td>2002</td>\n",
       "      <td>39.989</td>\n",
       "      <td>11926563</td>\n",
       "      <td>672.038623</td>\n",
       "    </tr>\n",
       "    <tr>\n",
       "      <th>1703</th>\n",
       "      <td>Africa</td>\n",
       "      <td>2007</td>\n",
       "      <td>43.487</td>\n",
       "      <td>12311143</td>\n",
       "      <td>469.709298</td>\n",
       "    </tr>\n",
       "  </tbody>\n",
       "</table>\n",
       "<p>1704 rows × 5 columns</p>\n",
       "</div>"
      ],
      "text/plain": [
       "     continent  year  lifeExp       pop   gdpPercap\n",
       "0         Asia  1952   28.801   8425333  779.445314\n",
       "1         Asia  1957   30.332   9240934  820.853030\n",
       "2         Asia  1962   31.997  10267083  853.100710\n",
       "3         Asia  1967   34.020  11537966  836.197138\n",
       "4         Asia  1972   36.088  13079460  739.981106\n",
       "...        ...   ...      ...       ...         ...\n",
       "1699    Africa  1987   62.351   9216418  706.157306\n",
       "1700    Africa  1992   60.377  10704340  693.420786\n",
       "1701    Africa  1997   46.809  11404948  792.449960\n",
       "1702    Africa  2002   39.989  11926563  672.038623\n",
       "1703    Africa  2007   43.487  12311143  469.709298\n",
       "\n",
       "[1704 rows x 5 columns]"
      ]
     },
     "execution_count": 5,
     "metadata": {},
     "output_type": "execute_result"
    }
   ],
   "source": [
    "gapminder"
   ]
  },
  {
   "cell_type": "markdown",
   "metadata": {
    "id": "HRHSiyQg9N5O"
   },
   "source": [
    "2. 주어진 빈칸에 알맞은 값을 입력하여 continent 열을 one-hot encoding한 데이터를 encoded_data 변수에 할당하시오. 아래와 같이 encoded_data가 출력될 수 있게 하시오. (10점)"
   ]
  },
  {
   "cell_type": "code",
   "execution_count": 6,
   "metadata": {
    "id": "4qWEMsnZ9dli"
   },
   "outputs": [],
   "source": [
    "import pandas as pd\n",
    "\n",
    "encoded_data = pd.get_dummies(gapminder, columns=[\"continent\"])"
   ]
  },
  {
   "cell_type": "code",
   "execution_count": 7,
   "metadata": {},
   "outputs": [
    {
     "data": {
      "text/html": [
       "<div>\n",
       "<style scoped>\n",
       "    .dataframe tbody tr th:only-of-type {\n",
       "        vertical-align: middle;\n",
       "    }\n",
       "\n",
       "    .dataframe tbody tr th {\n",
       "        vertical-align: top;\n",
       "    }\n",
       "\n",
       "    .dataframe thead th {\n",
       "        text-align: right;\n",
       "    }\n",
       "</style>\n",
       "<table border=\"1\" class=\"dataframe\">\n",
       "  <thead>\n",
       "    <tr style=\"text-align: right;\">\n",
       "      <th></th>\n",
       "      <th>year</th>\n",
       "      <th>lifeExp</th>\n",
       "      <th>pop</th>\n",
       "      <th>gdpPercap</th>\n",
       "      <th>continent_Africa</th>\n",
       "      <th>continent_Americas</th>\n",
       "      <th>continent_Asia</th>\n",
       "      <th>continent_Europe</th>\n",
       "      <th>continent_Oceania</th>\n",
       "    </tr>\n",
       "  </thead>\n",
       "  <tbody>\n",
       "    <tr>\n",
       "      <th>0</th>\n",
       "      <td>1952</td>\n",
       "      <td>28.801</td>\n",
       "      <td>8425333</td>\n",
       "      <td>779.445314</td>\n",
       "      <td>0</td>\n",
       "      <td>0</td>\n",
       "      <td>1</td>\n",
       "      <td>0</td>\n",
       "      <td>0</td>\n",
       "    </tr>\n",
       "    <tr>\n",
       "      <th>1</th>\n",
       "      <td>1957</td>\n",
       "      <td>30.332</td>\n",
       "      <td>9240934</td>\n",
       "      <td>820.853030</td>\n",
       "      <td>0</td>\n",
       "      <td>0</td>\n",
       "      <td>1</td>\n",
       "      <td>0</td>\n",
       "      <td>0</td>\n",
       "    </tr>\n",
       "    <tr>\n",
       "      <th>2</th>\n",
       "      <td>1962</td>\n",
       "      <td>31.997</td>\n",
       "      <td>10267083</td>\n",
       "      <td>853.100710</td>\n",
       "      <td>0</td>\n",
       "      <td>0</td>\n",
       "      <td>1</td>\n",
       "      <td>0</td>\n",
       "      <td>0</td>\n",
       "    </tr>\n",
       "    <tr>\n",
       "      <th>3</th>\n",
       "      <td>1967</td>\n",
       "      <td>34.020</td>\n",
       "      <td>11537966</td>\n",
       "      <td>836.197138</td>\n",
       "      <td>0</td>\n",
       "      <td>0</td>\n",
       "      <td>1</td>\n",
       "      <td>0</td>\n",
       "      <td>0</td>\n",
       "    </tr>\n",
       "    <tr>\n",
       "      <th>4</th>\n",
       "      <td>1972</td>\n",
       "      <td>36.088</td>\n",
       "      <td>13079460</td>\n",
       "      <td>739.981106</td>\n",
       "      <td>0</td>\n",
       "      <td>0</td>\n",
       "      <td>1</td>\n",
       "      <td>0</td>\n",
       "      <td>0</td>\n",
       "    </tr>\n",
       "    <tr>\n",
       "      <th>...</th>\n",
       "      <td>...</td>\n",
       "      <td>...</td>\n",
       "      <td>...</td>\n",
       "      <td>...</td>\n",
       "      <td>...</td>\n",
       "      <td>...</td>\n",
       "      <td>...</td>\n",
       "      <td>...</td>\n",
       "      <td>...</td>\n",
       "    </tr>\n",
       "    <tr>\n",
       "      <th>1699</th>\n",
       "      <td>1987</td>\n",
       "      <td>62.351</td>\n",
       "      <td>9216418</td>\n",
       "      <td>706.157306</td>\n",
       "      <td>1</td>\n",
       "      <td>0</td>\n",
       "      <td>0</td>\n",
       "      <td>0</td>\n",
       "      <td>0</td>\n",
       "    </tr>\n",
       "    <tr>\n",
       "      <th>1700</th>\n",
       "      <td>1992</td>\n",
       "      <td>60.377</td>\n",
       "      <td>10704340</td>\n",
       "      <td>693.420786</td>\n",
       "      <td>1</td>\n",
       "      <td>0</td>\n",
       "      <td>0</td>\n",
       "      <td>0</td>\n",
       "      <td>0</td>\n",
       "    </tr>\n",
       "    <tr>\n",
       "      <th>1701</th>\n",
       "      <td>1997</td>\n",
       "      <td>46.809</td>\n",
       "      <td>11404948</td>\n",
       "      <td>792.449960</td>\n",
       "      <td>1</td>\n",
       "      <td>0</td>\n",
       "      <td>0</td>\n",
       "      <td>0</td>\n",
       "      <td>0</td>\n",
       "    </tr>\n",
       "    <tr>\n",
       "      <th>1702</th>\n",
       "      <td>2002</td>\n",
       "      <td>39.989</td>\n",
       "      <td>11926563</td>\n",
       "      <td>672.038623</td>\n",
       "      <td>1</td>\n",
       "      <td>0</td>\n",
       "      <td>0</td>\n",
       "      <td>0</td>\n",
       "      <td>0</td>\n",
       "    </tr>\n",
       "    <tr>\n",
       "      <th>1703</th>\n",
       "      <td>2007</td>\n",
       "      <td>43.487</td>\n",
       "      <td>12311143</td>\n",
       "      <td>469.709298</td>\n",
       "      <td>1</td>\n",
       "      <td>0</td>\n",
       "      <td>0</td>\n",
       "      <td>0</td>\n",
       "      <td>0</td>\n",
       "    </tr>\n",
       "  </tbody>\n",
       "</table>\n",
       "<p>1704 rows × 9 columns</p>\n",
       "</div>"
      ],
      "text/plain": [
       "      year  lifeExp       pop   gdpPercap  continent_Africa  \\\n",
       "0     1952   28.801   8425333  779.445314                 0   \n",
       "1     1957   30.332   9240934  820.853030                 0   \n",
       "2     1962   31.997  10267083  853.100710                 0   \n",
       "3     1967   34.020  11537966  836.197138                 0   \n",
       "4     1972   36.088  13079460  739.981106                 0   \n",
       "...    ...      ...       ...         ...               ...   \n",
       "1699  1987   62.351   9216418  706.157306                 1   \n",
       "1700  1992   60.377  10704340  693.420786                 1   \n",
       "1701  1997   46.809  11404948  792.449960                 1   \n",
       "1702  2002   39.989  11926563  672.038623                 1   \n",
       "1703  2007   43.487  12311143  469.709298                 1   \n",
       "\n",
       "      continent_Americas  continent_Asia  continent_Europe  continent_Oceania  \n",
       "0                      0               1                 0                  0  \n",
       "1                      0               1                 0                  0  \n",
       "2                      0               1                 0                  0  \n",
       "3                      0               1                 0                  0  \n",
       "4                      0               1                 0                  0  \n",
       "...                  ...             ...               ...                ...  \n",
       "1699                   0               0                 0                  0  \n",
       "1700                   0               0                 0                  0  \n",
       "1701                   0               0                 0                  0  \n",
       "1702                   0               0                 0                  0  \n",
       "1703                   0               0                 0                  0  \n",
       "\n",
       "[1704 rows x 9 columns]"
      ]
     },
     "execution_count": 7,
     "metadata": {},
     "output_type": "execute_result"
    }
   ],
   "source": [
    "encoded_data"
   ]
  },
  {
   "cell_type": "markdown",
   "metadata": {
    "id": "hWgHG0L3-Pc8"
   },
   "source": [
    "3. 알맞은 코드를 입력하여 아래와 같이 2x2 subplot에 year, lifeExp, pop, gdpPercap에 대한 히스토그램을 그려서 출력하시오. (20점)"
   ]
  },
  {
   "cell_type": "code",
   "execution_count": 8,
   "metadata": {},
   "outputs": [
    {
     "data": {
      "image/png": "[encoded data removed]",
      "text/plain": [
       "<Figure size 432x288 with 4 Axes>"
      ]
     },
     "metadata": {
      "needs_background": "light"
     },
     "output_type": "display_data"
    }
   ],
   "source": [
    "import matplotlib.pyplot as plt\n",
    "\n",
    "###\n",
    "plt.subplot(2,2,1)\n",
    "plt.hist(gapminder['year'])\n",
    "plt.title('year')\n",
    "\n",
    "plt.subplot(2,2,2)\n",
    "plt.hist(gapminder['lifeExp'])\n",
    "plt.title('lifeExp')\n",
    "\n",
    "plt.subplot(2,2,3)\n",
    "plt.hist(gapminder['pop'])\n",
    "plt.title('pop')\n",
    "\n",
    "plt.subplot(2,2,4)\n",
    "plt.hist(gapminder['gdpPercap'])\n",
    "plt.title('gdpPercap')\n",
    "###\n",
    "\n",
    "plt.tight_layout()\n",
    "plt.show()"
   ]
  },
  {
   "cell_type": "markdown",
   "metadata": {
    "id": "EXNsnduV-kvS"
   },
   "source": [
    "4. pop과 gdpPercap 변수를 로그 변환을 하려 한다. 주어진 빈칸을 채워 넣어 알맞게 로그 변환 하시오. (10점)"
   ]
  },
  {
   "cell_type": "code",
   "execution_count": 9,
   "metadata": {
    "id": "8oPT4a9j-uSi"
   },
   "outputs": [],
   "source": [
    "import numpy as np\n",
    "\n",
    "encoded_data['pop_log'] = np.log(encoded_data['pop'])\n",
    "encoded_data['gdpPercap_log'] = np.log(encoded_data['gdpPercap'])"
   ]
  },
  {
   "cell_type": "markdown",
   "metadata": {
    "id": "RykbwInG_VR8"
   },
   "source": [
    "5. 주어진 빈칸을 알맞게 채워 넣어 pop_log, year, lifeExp, 원핫 인코딩된 대륙명 변수를 활용하여 gdpPercap_log를 예측하는 선형 회귀 모델을 만들고 MSE로 평가 하시오.이때, 다중 공선성 오류를 피하기 위해 원핫 인코딩된 변수는 continent_Oceania 변수를 제외하고 입력하시오. (20점)"
   ]
  },
  {
   "cell_type": "code",
   "execution_count": 10,
   "metadata": {},
   "outputs": [
    {
     "name": "stdout",
     "output_type": "stream",
     "text": [
      "LinearRegression MSE: 0.4168393847396486\n"
     ]
    }
   ],
   "source": [
    "from sklearn.model_selection import train_test_split\n",
    "from sklearn.linear_model import LinearRegression\n",
    "from sklearn.metrics import mean_squared_error\n",
    "\n",
    "# 데이터 추출\n",
    "X_df = encoded_data[['pop_log', 'year', 'lifeExp', 'continent_Africa', 'continent_Americas', 'continent_Asia', 'continent_Europe']]\n",
    "y_df = encoded_data[['gdpPercap_log']]\n",
    "\n",
    "# 데이터 분리\n",
    "X_train, X_test, y_train, y_test = train_test_split(X_df, y_df, test_size=0.2, random_state=42)\n",
    "\n",
    "# 모델 로드\n",
    "lin_reg = LinearRegression()\n",
    "\n",
    "# 모델 학습\n",
    "lin_reg.fit(X_train, y_train)\n",
    "\n",
    "# 예측 및 성능 평가\n",
    "y_pred = lin_reg.predict(X_test)\n",
    "mse = mean_squared_error(y_test, y_pred)\n",
    "print(f\"{lin_reg.__class__.__name__} MSE: {mse:.16f}\") #mse를 출력하는 코드"
   ]
  },
  {
   "cell_type": "markdown",
   "metadata": {
    "id": "RxBIE3nAByxw"
   },
   "source": [
    "6. 주어진 빈칸을 알맞게 채워 넣어 pop_log, year, lifeExp, 원핫 인코딩된 대륙명 변수를 활용하여 gdpPercap_log를 예측하는 GradientBoosting, XGBoost, LightGBM 회귀 모델을 만들고 MSE로 평가 하시오.이때, 다중 공선성 오류를 피하기 위해 원핫 인코딩된 변수는 continent_Oceania 변수를 제외하고 입력하시오. (30점)"
   ]
  },
  {
   "cell_type": "code",
   "execution_count": 11,
   "metadata": {},
   "outputs": [
    {
     "name": "stdout",
     "output_type": "stream",
     "text": [
      "[LightGBM] [Warning] Auto-choosing row-wise multi-threading, the overhead of testing was 0.000090 seconds.\n",
      "You can set `force_row_wise=true` to remove the overhead.\n",
      "And if memory is not enough, you can set `force_col_wise=true`.\n",
      "[LightGBM] [Info] Total Bins 531\n",
      "[LightGBM] [Info] Number of data points in the train set: 1363, number of used features: 7\n",
      "[LightGBM] [Info] Start training from score 8.155438\n",
      "GradientBoostingRegressor MSE: 0.34056680816395857\n",
      "XGBRegressor MSE: 0.37222287198419934\n",
      "LGBMRegressor MSE: 0.33232827916593727\n"
     ]
    }
   ],
   "source": [
    "from sklearn.ensemble import GradientBoostingRegressor\n",
    "from xgboost import XGBRegressor\n",
    "from lightgbm import LGBMRegressor\n",
    "\n",
    "# 모델 정의\n",
    "gb_reg = GradientBoostingRegressor()\n",
    "xgb_reg = XGBRegressor()\n",
    "lgb_reg = LGBMRegressor()\n",
    "\n",
    "# 모델 학습\n",
    "for model in [gb_reg, xgb_reg, lgb_reg]:\n",
    "    model.fit(X_train, y_train)\n",
    "\n",
    "# 예측 및 성능 평가\n",
    "for model in [gb_reg, xgb_reg, lgb_reg]:\n",
    "    y_pred = model.predict(X_test)\n",
    "    mse = mean_squared_error(y_test, y_pred)\n",
    "    print(f\"{model.__class__.__name__} MSE: {mse}\")"
   ]
  },
  {
   "cell_type": "markdown",
   "metadata": {
    "id": "vEXv28UtC7BD"
   },
   "source": [
    "# 보너스"
   ]
  },
  {
   "cell_type": "markdown",
   "metadata": {
    "id": "LuIhoLs2FcSS"
   },
   "source": [
    "1. 데이터 전처리 시간에 배운 것을 활용하여 데이터를 전처리하고, 전처리한 데이터를 가지고 LGBMRegressor()로 학습하시오. (시도 시 10점, 기존 모델에 비해 성능 향상 시 10점)"
   ]
  },
  {
   "cell_type": "code",
   "execution_count": 12,
   "metadata": {},
   "outputs": [
    {
     "name": "stdout",
     "output_type": "stream",
     "text": [
      "[LightGBM] [Warning] Auto-choosing col-wise multi-threading, the overhead of testing was 0.000189 seconds.\n",
      "You can set `force_col_wise=true` to remove the overhead.\n",
      "[LightGBM] [Info] Total Bins 1041\n",
      "[LightGBM] [Info] Number of data points in the train set: 1363, number of used features: 9\n",
      "[LightGBM] [Info] Start training from score 8.155438\n",
      "LGBMRegressor MSE: 0.0009648262182661781\n"
     ]
    }
   ],
   "source": [
    "encoded_data = pd.get_dummies(gapminder, columns=['continent'])\n",
    "encoded_data['pop_log'] = np.log(encoded_data['pop'])\n",
    "encoded_data['gdpPercap_log'] = np.log(encoded_data['gdpPercap'])\n",
    "\n",
    "X = encoded_data.drop(['gdpPercap_log', 'continent_Oceania'], axis=1)\n",
    "y = encoded_data['gdpPercap_log']\n",
    "\n",
    "X_train, X_test, y_train, y_test = train_test_split(X, y, test_size=0.2, random_state=42)\n",
    "\n",
    "lgb_reg = LGBMRegressor()\n",
    "lgb_reg.fit(X_train, y_train)\n",
    "\n",
    "y_pred = lgb_reg.predict(X_test)\n",
    "mse = mean_squared_error(y_test, y_pred)\n",
    "print(f\"LGBMRegressor MSE: {mse}\")"
   ]
  },
  {
   "cell_type": "markdown",
   "metadata": {
    "id": "l_qvsHEsF3Iw"
   },
   "source": [
    "2. 선형 회귀 모델을 이용하여 회귀분석을 진행하고, 그 의미에 대해서 직접 해석해보시오. (시도 시 10점)"
   ]
  },
  {
   "cell_type": "code",
   "execution_count": 13,
   "metadata": {
    "id": "rHGd2BU9C3mJ"
   },
   "outputs": [
    {
     "data": {
      "text/html": [
       "<table class=\"simpletable\">\n",
       "<caption>OLS Regression Results</caption>\n",
       "<tr>\n",
       "  <th>Dep. Variable:</th>        <td>gdpPercap</td>    <th>  R-squared:         </th> <td>   0.369</td> \n",
       "</tr>\n",
       "<tr>\n",
       "  <th>Model:</th>                   <td>OLS</td>       <th>  Adj. R-squared:    </th> <td>   0.366</td> \n",
       "</tr>\n",
       "<tr>\n",
       "  <th>Method:</th>             <td>Least Squares</td>  <th>  F-statistic:       </th> <td>   141.4</td> \n",
       "</tr>\n",
       "<tr>\n",
       "  <th>Date:</th>             <td>Mon, 17 Jul 2023</td> <th>  Prob (F-statistic):</th> <td>2.66e-164</td>\n",
       "</tr>\n",
       "<tr>\n",
       "  <th>Time:</th>                 <td>01:19:09</td>     <th>  Log-Likelihood:    </th> <td> -17696.</td> \n",
       "</tr>\n",
       "<tr>\n",
       "  <th>No. Observations:</th>      <td>  1704</td>      <th>  AIC:               </th> <td>3.541e+04</td>\n",
       "</tr>\n",
       "<tr>\n",
       "  <th>Df Residuals:</th>          <td>  1696</td>      <th>  BIC:               </th> <td>3.545e+04</td>\n",
       "</tr>\n",
       "<tr>\n",
       "  <th>Df Model:</th>              <td>     7</td>      <th>                     </th>     <td> </td>    \n",
       "</tr>\n",
       "<tr>\n",
       "  <th>Covariance Type:</th>      <td>nonrobust</td>    <th>                     </th>     <td> </td>    \n",
       "</tr>\n",
       "</table>\n",
       "<table class=\"simpletable\">\n",
       "<tr>\n",
       "           <td></td>             <th>coef</th>     <th>std err</th>      <th>t</th>      <th>P>|t|</th>  <th>[0.025</th>    <th>0.975]</th>  \n",
       "</tr>\n",
       "<tr>\n",
       "  <th>const</th>              <td>-2.292e+04</td> <td> 2.22e+04</td> <td>   -1.034</td> <td> 0.301</td> <td>-6.64e+04</td> <td> 2.06e+04</td>\n",
       "</tr>\n",
       "<tr>\n",
       "  <th>year</th>               <td>    6.5271</td> <td>   13.939</td> <td>    0.468</td> <td> 0.640</td> <td>  -20.812</td> <td>   33.866</td>\n",
       "</tr>\n",
       "<tr>\n",
       "  <th>lifeExp</th>            <td>  388.1655</td> <td>   26.037</td> <td>   14.908</td> <td> 0.000</td> <td>  337.097</td> <td>  439.234</td>\n",
       "</tr>\n",
       "<tr>\n",
       "  <th>pop</th>                <td>-6.416e-06</td> <td> 1.86e-06</td> <td>   -3.454</td> <td> 0.001</td> <td>-1.01e-05</td> <td>-2.77e-06</td>\n",
       "</tr>\n",
       "<tr>\n",
       "  <th>continent_Africa</th>   <td>-6707.6449</td> <td> 4688.123</td> <td>   -1.431</td> <td> 0.153</td> <td>-1.59e+04</td> <td> 2487.469</td>\n",
       "</tr>\n",
       "<tr>\n",
       "  <th>continent_Americas</th> <td>-7802.1451</td> <td> 4450.063</td> <td>   -1.753</td> <td> 0.080</td> <td>-1.65e+04</td> <td>  926.046</td>\n",
       "</tr>\n",
       "<tr>\n",
       "  <th>continent_Asia</th>     <td>-4915.8884</td> <td> 4509.084</td> <td>   -1.090</td> <td> 0.276</td> <td>-1.38e+04</td> <td> 3928.066</td>\n",
       "</tr>\n",
       "<tr>\n",
       "  <th>continent_Europe</th>   <td>-3328.0795</td> <td> 4345.070</td> <td>   -0.766</td> <td> 0.444</td> <td>-1.19e+04</td> <td> 5194.183</td>\n",
       "</tr>\n",
       "<tr>\n",
       "  <th>continent_Oceania</th>  <td> -169.5052</td> <td> 4494.343</td> <td>   -0.038</td> <td> 0.970</td> <td>-8984.547</td> <td> 8645.536</td>\n",
       "</tr>\n",
       "</table>\n",
       "<table class=\"simpletable\">\n",
       "<tr>\n",
       "  <th>Omnibus:</th>       <td>1996.307</td> <th>  Durbin-Watson:     </th>  <td>   0.332</td> \n",
       "</tr>\n",
       "<tr>\n",
       "  <th>Prob(Omnibus):</th>  <td> 0.000</td>  <th>  Jarque-Bera (JB):  </th> <td>299082.688</td>\n",
       "</tr>\n",
       "<tr>\n",
       "  <th>Skew:</th>           <td> 5.848</td>  <th>  Prob(JB):          </th>  <td>    0.00</td> \n",
       "</tr>\n",
       "<tr>\n",
       "  <th>Kurtosis:</th>       <td>66.841</td>  <th>  Cond. No.          </th>  <td>3.79e+23</td> \n",
       "</tr>\n",
       "</table><br/><br/>Notes:<br/>[1] Standard Errors assume that the covariance matrix of the errors is correctly specified.<br/>[2] The smallest eigenvalue is 1.44e-28. This might indicate that there are<br/>strong multicollinearity problems or that the design matrix is singular."
      ],
      "text/plain": [
       "<class 'statsmodels.iolib.summary.Summary'>\n",
       "\"\"\"\n",
       "                            OLS Regression Results                            \n",
       "==============================================================================\n",
       "Dep. Variable:              gdpPercap   R-squared:                       0.369\n",
       "Model:                            OLS   Adj. R-squared:                  0.366\n",
       "Method:                 Least Squares   F-statistic:                     141.4\n",
       "Date:                Mon, 17 Jul 2023   Prob (F-statistic):          2.66e-164\n",
       "Time:                        01:19:09   Log-Likelihood:                -17696.\n",
       "No. Observations:                1704   AIC:                         3.541e+04\n",
       "Df Residuals:                    1696   BIC:                         3.545e+04\n",
       "Df Model:                           7                                         \n",
       "Covariance Type:            nonrobust                                         \n",
       "======================================================================================\n",
       "                         coef    std err          t      P>|t|      [0.025      0.975]\n",
       "--------------------------------------------------------------------------------------\n",
       "const              -2.292e+04   2.22e+04     -1.034      0.301   -6.64e+04    2.06e+04\n",
       "year                   6.5271     13.939      0.468      0.640     -20.812      33.866\n",
       "lifeExp              388.1655     26.037     14.908      0.000     337.097     439.234\n",
       "pop                -6.416e-06   1.86e-06     -3.454      0.001   -1.01e-05   -2.77e-06\n",
       "continent_Africa   -6707.6449   4688.123     -1.431      0.153   -1.59e+04    2487.469\n",
       "continent_Americas -7802.1451   4450.063     -1.753      0.080   -1.65e+04     926.046\n",
       "continent_Asia     -4915.8884   4509.084     -1.090      0.276   -1.38e+04    3928.066\n",
       "continent_Europe   -3328.0795   4345.070     -0.766      0.444   -1.19e+04    5194.183\n",
       "continent_Oceania   -169.5052   4494.343     -0.038      0.970   -8984.547    8645.536\n",
       "==============================================================================\n",
       "Omnibus:                     1996.307   Durbin-Watson:                   0.332\n",
       "Prob(Omnibus):                  0.000   Jarque-Bera (JB):           299082.688\n",
       "Skew:                           5.848   Prob(JB):                         0.00\n",
       "Kurtosis:                      66.841   Cond. No.                     3.79e+23\n",
       "==============================================================================\n",
       "\n",
       "Notes:\n",
       "[1] Standard Errors assume that the covariance matrix of the errors is correctly specified.\n",
       "[2] The smallest eigenvalue is 1.44e-28. This might indicate that there are\n",
       "strong multicollinearity problems or that the design matrix is singular.\n",
       "\"\"\""
      ]
     },
     "execution_count": 13,
     "metadata": {},
     "output_type": "execute_result"
    }
   ],
   "source": [
    "import statsmodels.api as sm\n",
    "\n",
    "encoded_data = pd.get_dummies(gapminder, columns=['continent'])\n",
    "\n",
    "X_df = encoded_data.drop('gdpPercap',axis=1)\n",
    "y_df = encoded_data['gdpPercap']\n",
    "\n",
    "X_df = sm.add_constant(X_df)\n",
    "\n",
    "lin_reg = sm.OLS(y_df, X_df)\n",
    "\n",
    "result = lin_reg.fit()\n",
    "\n",
    "result.summary()"
   ]
  },
  {
   "cell_type": "markdown",
   "metadata": {
    "id": "AXFcLad8GK-l"
   },
   "source": [
    "### 해석을 적는 란"
   ]
  },
  {
   "cell_type": "markdown",
   "metadata": {
    "id": "Mr38E48MGNTh"
   },
   "source": [
    "해석: import 및 데이터 로드와 전처리 부분은 위의 동일한 부분과 동일하여 생략하였다. X_df와 y_df로 데이터를 우선 추출 후 선형 회귀 모델을 이용하여 회귀분석을 진행하여야 하므로 회귀 모델에 상수를 추가하기 위하여 add_constant 함수를 사용하였다. sm.OLS 클래스를 이용하여 선형 회귀 모델을 정의한 후 fit을 이용하여 모델을 학습한 후 그 값을 result에 넣어 회귀 분석 결과를 나타내었다."
   ]
  }
 ],
 "metadata": {
  "colab": {
   "provenance": []
  },
  "kernelspec": {
   "display_name": "Python 3 (ipykernel)",
   "language": "python",
   "name": "python3"
  },
  "language_info": {
   "codemirror_mode": {
    "name": "ipython",
    "version": 3
   },
   "file_extension": ".py",
   "mimetype": "text/x-python",
   "name": "python",
   "nbconvert_exporter": "python",
   "pygments_lexer": "ipython3",
   "version": "3.9.7"
  }
 },
 "nbformat": 4,
 "nbformat_minor": 1
}
